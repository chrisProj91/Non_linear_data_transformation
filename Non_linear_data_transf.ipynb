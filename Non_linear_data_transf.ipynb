{
 "cells": [
  {
   "cell_type": "markdown",
   "metadata": {},
   "source": [
    "### Non-Linear Data Transformation and Regularized Regression Models(Lasso,Ridge)"
   ]
  },
  {
   "cell_type": "code",
   "execution_count": 4,
   "metadata": {},
   "outputs": [],
   "source": [
    "import numpy as np\n",
    "import matplotlib.pyplot as plt\n",
    "\n",
    "np.random.seed(40)\n",
    "m = 1000\n",
    "X = 10 * np.random.rand(m, 1) - 5\n",
    "y = 2 * X + X**2 + np.random.randn(m,1)"
   ]
  },
  {
   "cell_type": "code",
   "execution_count": 31,
   "metadata": {},
   "outputs": [
    {
     "data": {
      "image/png": "[encoded data removed]",
      "text/plain": [
       "<Figure size 720x432 with 1 Axes>"
      ]
     },
     "metadata": {
      "needs_background": "light"
     },
     "output_type": "display_data"
    }
   ],
   "source": [
    "# plot  data\n",
    "fig = plt.figure(figsize = (10,6))\n",
    "plt.plot(X,y, \"o\")\n",
    "plt.xlabel(\"x\")\n",
    "plt.ylabel(\"y\")\n",
    "plt.title(\"Plot of x-y\")\n",
    "plt.show()"
   ]
  },
  {
   "cell_type": "code",
   "execution_count": 8,
   "metadata": {},
   "outputs": [],
   "source": [
    "# split the data into training and validation set\n",
    "from sklearn.model_selection import train_test_split\n",
    "x_train, x_test, y_train, y_test = train_test_split(X, y, test_size=0.3, random_state=42)"
   ]
  },
  {
   "cell_type": "code",
   "execution_count": 10,
   "metadata": {},
   "outputs": [],
   "source": [
    "# 1) Transform the data using a polynomial of degree four\n",
    "\n",
    "# polynomial of degree 4\n",
    "from sklearn.preprocessing import PolynomialFeatures\n",
    "poly_features = PolynomialFeatures(degree=4, include_bias=False)\n",
    "\n",
    "x_train_poly = poly_features.fit_transform(x_train)\n",
    "x_test_poly = poly_features.transform(x_test)# create polynomial features of degree 4\n"
   ]
  },
  {
   "cell_type": "code",
   "execution_count": 21,
   "metadata": {},
   "outputs": [
    {
     "name": "stdout",
     "output_type": "stream",
     "text": [
      "1.0113052788371817\n",
      "0.9878754544658613\n",
      "0.96272702720395\n",
      "0.9902331437077726\n"
     ]
    }
   ],
   "source": [
    "from sklearn.linear_model import Lasso\n",
    "from sklearn.metrics import mean_squared_error\n",
    "from sklearn.metrics import r2_score\n",
    "import pandas as pd\n",
    "\n",
    "\n",
    "model_lasso = Lasso(alpha=0.01)\n",
    "model_lasso.fit(x_train_poly, y_train) \n",
    "pred_train_lasso= model_lasso.predict(x_train_poly)\n",
    "print(np.sqrt(mean_squared_error(y_train,pred_train_lasso)))\n",
    "print(r2_score(y_train, pred_train_lasso))\n",
    "\n",
    "pred_test_lasso= model_lasso.predict(x_test_poly)\n",
    "print(np.sqrt(mean_squared_error(y_test,pred_test_lasso))) \n",
    "print(r2_score(y_test, pred_test_lasso))"
   ]
  },
  {
   "cell_type": "code",
   "execution_count": 26,
   "metadata": {
    "scrolled": true
   },
   "outputs": [
    {
     "name": "stdout",
     "output_type": "stream",
     "text": [
      "[ 1.99444631e+00  1.02058771e+00  1.14643808e-03 -1.20157767e-03]\n"
     ]
    }
   ],
   "source": [
    "# 3) What are the coefficients each lasso regularized model predicts? Comment on your results.\n",
    "\n",
    "# Print the coefficients of the model\n",
    "print(model_lasso.coef_)"
   ]
  },
  {
   "cell_type": "markdown",
   "metadata": {},
   "source": [
    "## comment:\n",
    "Lasso regression is a linear regression technique that incorporates L1 regularization, which helps in feature selection and regularization by shrinking the coefficients towards zero.\n",
    "<br>\n",
    "<br>\n",
    "The first coefficient (1.99444631e+00) has a relatiely large value. As a result the corresponding feature has strong ppositie influence on the target variable in the regression model because the larger the coefficient the stronger the impact of the feature.\n",
    "<br>\n",
    "The second coefficient (1.02058771e+00) has a positive smaller value than the first. But it is enough large in order to have positive influence on the target valueclearly weaker than the first coefficient.\n",
    "<br>\n",
    "The third coefficient (1.02058771e+00) is to close to zero. This indicates that the corresponding feature has minimal impact on the target variable. Using Lasso regression the L1 regularization tends to shrink less important features towards zero, effectively performing feature selection by eliminating the influence of irrelevant features.\n",
    "<br>\n",
    "The fourth coefficient (-1.20157767e-03) is negative and close to zero. This implies that the corresponding feature has a weak negative influence on the target variable and Lasso has reduced its influence. "
   ]
  },
  {
   "cell_type": "code",
   "execution_count": 28,
   "metadata": {},
   "outputs": [
    {
     "name": "stdout",
     "output_type": "stream",
     "text": [
      "[0.06508357]\n"
     ]
    }
   ],
   "source": [
    "print(model_lasso.intercept_)"
   ]
  },
  {
   "cell_type": "code",
   "execution_count": 29,
   "metadata": {},
   "outputs": [
    {
     "name": "stdout",
     "output_type": "stream",
     "text": [
      "1.0112561311904547\n",
      "0.9878766329001352\n",
      "0.9630725512466198\n",
      "0.9902261317736227\n"
     ]
    }
   ],
   "source": [
    "# 4) Train a Ridge regularized linear regression models with alpha 0.01 on the polynomial features.\n",
    "\n",
    "from sklearn.linear_model import Ridge\n",
    "\n",
    "\n",
    "rr = Ridge(alpha=0.01)\n",
    "rr.fit(x_train_poly, y_train) \n",
    "pred_train_rr= rr.predict(x_train_poly)\n",
    "print(np.sqrt(mean_squared_error(y_train,pred_train_rr)))\n",
    "print(r2_score(y_train, pred_train_rr))\n",
    "\n",
    "pred_test_rr= rr.predict(x_test_poly)\n",
    "print(np.sqrt(mean_squared_error(y_test,pred_test_rr))) \n",
    "print(r2_score(y_test, pred_test_rr))"
   ]
  },
  {
   "cell_type": "code",
   "execution_count": 30,
   "metadata": {},
   "outputs": [
    {
     "name": "stdout",
     "output_type": "stream",
     "text": [
      "[[ 2.00168412e+00  1.02319489e+00  7.33889098e-04 -1.31544411e-03]]\n"
     ]
    }
   ],
   "source": [
    "# 5) What are the coefficients the ridge regularized model predicts? Comment on your results.\n",
    "\n",
    "# Print the coefficients of the model\n",
    "print(rr.coef_)"
   ]
  },
  {
   "cell_type": "markdown",
   "metadata": {},
   "source": [
    "## comment:\n",
    "Ridge regression is a linear regression technique that incorporates L2 regularization, which helps in controlling the magnitude of the coefficients and reducing overfitting.\n",
    "<br>\n",
    "<br>\n",
    "The first coefficient (2.00168412e+00) has relatively large ppositive value similar to Lasso first coefficient. This suggests that the corresponding featre has strong positive inluence on the target variable in the regression model\n",
    "<br>\n",
    "The second coefficient (1.02319489e+00) has also a positive value with similar ordr such as Lasso regression. This indicates that the correspponding feature has positive impact on the target variable but it is weaker than the first feature\n",
    "<br>\n",
    "The third coefficient (7.33889098e-04) is almost zero even more than Lasso coefficient. This clearly implies that the corresponding feature has positive influence on the target variable but it its impact is relatively weaker in the \n",
    "Ridge regression model than Lasso model.\n",
    "<br>\n",
    "The fourth coefficient (-1.31544411e-03) is negative, small enough and similar to Lasso fourth coefficient. This suggests that the corresponding feature has a weak negative inluence on the target variable.\n",
    "<br>\n",
    "<br>\n",
    "Comparing coefficients according to Ridge and Lasso model we can observe that fisrt and second coefficients are to close and have a strong impact respectively on the target variable. The fourth coeffcients from both models are negative and almost zero with negative influence on the target variable. Finally tha main difference is obsered with third coefficient which has a smaller positive value in Ridge compared to Lasso, suggesting that the Lasso regularization has reduced its impact more significantly.\n",
    "<br>\n",
    "<br>\n",
    "Overall, Ridge and Lasso regression techniques have different regularization approaches, which result in different coefficient values. Lasso tends to perform feature selection by shrinking less important features towards zero, while Ridge focuses on controlling the magnitude of the coefficients. The choice between Ridge and Lasso regression depends on the specific requirements of the problem and the desired trade-off between feature selection and coefficient magnitude control.\n"
   ]
  },
  {
   "cell_type": "code",
   "execution_count": null,
   "metadata": {},
   "outputs": [],
   "source": []
  }
 ],
 "metadata": {
  "kernelspec": {
   "display_name": "Python 3 (ipykernel)",
   "language": "python",
   "name": "python3"
  },
  "language_info": {
   "codemirror_mode": {
    "name": "ipython",
    "version": 3
   },
   "file_extension": ".py",
   "mimetype": "text/x-python",
   "name": "python",
   "nbconvert_exporter": "python",
   "pygments_lexer": "ipython3",
   "version": "3.10.13"
  }
 },
 "nbformat": 4,
 "nbformat_minor": 4
}
